{
 "cells": [
  {
   "cell_type": "markdown",
   "id": "25d7736c-ba17-4aff-b6bb-66eba20fbf4e",
   "metadata": {},
   "source": [
    "# Lab | Error Handling"
   ]
  },
  {
   "cell_type": "markdown",
   "id": "bc99b386-7508-47a0-bcdb-d969deaf6c8b",
   "metadata": {},
   "source": [
    "## Exercise: Error Handling for Managing Customer Orders\n",
    "\n",
    "The implementation of your code for managing customer orders assumes that the user will always enter a valid input. \n",
    "\n",
    "For example, we could modify the `initialize_inventory` function to include error handling.\n",
    "   - If the user enters an invalid quantity (e.g., a negative value or a non-numeric value), display an error message and ask them to re-enter the quantity for that product.\n",
    "   - Use a try-except block to handle the error and continue prompting the user until a valid quantity is entered.\n",
    "\n",
    "```python\n",
    "# Step 1: Define the function for initializing the inventory with error handling\n",
    "def initialize_inventory(products):\n",
    "    inventory = {}\n",
    "    for product in products:\n",
    "        valid_quantity = False\n",
    "        while not valid_quantity:\n",
    "            try:\n",
    "                quantity = int(input(f\"Enter the quantity of {product}s available: \"))\n",
    "                if quantity < 0:\n",
    "                    raise ValueError(\"Invalid quantity! Please enter a non-negative value.\")\n",
    "                valid_quantity = True\n",
    "            except ValueError as error:\n",
    "                print(f\"Error: {error}\")\n",
    "        inventory[product] = quantity\n",
    "    return inventory\n",
    "\n",
    "# Or, in another way:\n",
    "\n",
    "def initialize_inventory(products):\n",
    "    inventory = {}\n",
    "    for product in products:\n",
    "        valid_input = False\n",
    "        while not valid_input:\n",
    "            try:\n",
    "                quantity = int(input(f\"Enter the quantity of {product}s available: \"))\n",
    "                if quantity >= 0:\n",
    "                    inventory[product] = quantity\n",
    "                    valid_input = True\n",
    "                else:\n",
    "                    print(\"Quantity cannot be negative. Please enter a valid quantity.\")\n",
    "            except ValueError:\n",
    "                print(\"Invalid input. Please enter a valid quantity.\")\n",
    "    return inventory\n",
    "```\n",
    "\n",
    "Let's enhance your code by implementing error handling to handle invalid inputs.\n",
    "\n",
    "Follow the steps below to complete the exercise:\n",
    "\n",
    "2. Modify the `calculate_total_price` function to include error handling.\n",
    "   - If the user enters an invalid price (e.g., a negative value or a non-numeric value), display an error message and ask them to re-enter the price for that product.\n",
    "   - Use a try-except block to handle the error and continue prompting the user until a valid price is entered.\n",
    "\n",
    "3. Modify the `get_customer_orders` function to include error handling.\n",
    "   - If the user enters an invalid number of orders (e.g., a negative value or a non-numeric value), display an error message and ask them to re-enter the number of orders.\n",
    "   - If the user enters an invalid product name (e.g., a product name that is not in the inventory), or that doesn't have stock available, display an error message and ask them to re-enter the product name. *Hint: you will need to pass inventory as a parameter*\n",
    "   - Use a try-except block to handle the error and continue prompting the user until a valid product name is entered.\n",
    "\n",
    "4. Test your code by running the program and deliberately entering invalid quantities and product names. Make sure the error handling mechanism works as expected.\n"
   ]
  },
  {
   "cell_type": "code",
   "execution_count": 55,
   "id": "5e0f60f4",
   "metadata": {},
   "outputs": [
    {
     "data": {
      "text/plain": [
       "'\\ndef initialize_inventory(products):\\n inventory={}\\n for product in products:\\n    quantity = int(input(f\"Enter the quantity of {product}: \"))\\n    inventory[product] = quantity\\n return inventory '"
      ]
     },
     "execution_count": 55,
     "metadata": {},
     "output_type": "execute_result"
    }
   ],
   "source": [
    "products = [\"t-shirt\",\"mug\",\"hat\",\"book\",\"keychain\"]\n",
    "inventory={}\n",
    "\"\"\"\n",
    "def initialize_inventory(products):\n",
    " inventory={}\n",
    " for product in products:\n",
    "    quantity = int(input(f\"Enter the quantity of {product}: \"))\n",
    "    inventory[product] = quantity\n",
    " return inventory \"\"\""
   ]
  },
  {
   "cell_type": "code",
   "execution_count": 56,
   "id": "b53187af",
   "metadata": {},
   "outputs": [],
   "source": [
    "def initialize_inventory(products):\n",
    "    inventory = {}\n",
    "    for product in products:\n",
    "        valid_quantity = False\n",
    "        while not valid_quantity:\n",
    "            try:\n",
    "                quantity = int(input(f\"Enter the quantity of {product}s available: \"))\n",
    "                if quantity < 0:\n",
    "                    raise ValueError(\"Invalid quantity! Please enter a non-negative value.\")\n",
    "                valid_quantity = True\n",
    "            except ValueError as error:\n",
    "                print(f\"Error: {error}\")\n",
    "        inventory[product] = quantity\n",
    "    return inventory"
   ]
  },
  {
   "cell_type": "code",
   "execution_count": 57,
   "id": "48ac8db8",
   "metadata": {},
   "outputs": [],
   "source": [
    "def get_customer_orders (inventory):\n",
    "    customer_orders = []\n",
    "    valid_1 = False\n",
    "    while not valid_1:\n",
    "        try:\n",
    "            quantity = int(input(\"How many products would you like to order?\").strip())\n",
    "            if quantity > 0:\n",
    "                valid_1 = True\n",
    "                for x in range(0,quantity):\n",
    "                    valid_1 =False\n",
    "                    while not valid_1:\n",
    "                        stock =input(\"What stock do you want to buy?\").strip()\n",
    "                        if stock in inventory:\n",
    "                            customer_orders.append(stock)\n",
    "                            valid_1 = True\n",
    "                        else:\n",
    "                            print(\"That product is not found\")\n",
    "            else:\n",
    "                print(\"Number not valid. Please enter another.\")\n",
    "        except ValueError:\n",
    "            print(\"Try again.\")\n",
    "    return customer_orders\n",
    "\n",
    "\n",
    "            "
   ]
  },
  {
   "cell_type": "code",
   "execution_count": 58,
   "id": "00fa2e3a",
   "metadata": {},
   "outputs": [],
   "source": [
    "def update_inventory(customer_orders, inventory):\n",
    "   for product in customer_orders:\n",
    "        inventory[product] -= 1\n",
    "   cero_inventory = [key for key, value in inventory.items() if value == 0]\n",
    "   \n",
    "   for item in cero_inventory:\n",
    "        del(inventory[item])\n",
    "    \n",
    "   return inventory"
   ]
  },
  {
   "cell_type": "code",
   "execution_count": 59,
   "id": "6ddaaac2",
   "metadata": {},
   "outputs": [],
   "source": [
    "def calculate_order_statistics(customer_orders, products):\n",
    " total_products_ordered = len(customer_orders)\n",
    " percentage_unique_products = (total_products_ordered/len(products)) * 100\n",
    " order_statistics = (total_products_ordered, percentage_unique_products)\n",
    " return order_statistics"
   ]
  },
  {
   "cell_type": "code",
   "execution_count": 60,
   "id": "07896bdf",
   "metadata": {},
   "outputs": [],
   "source": [
    "def print_order_statistics (order_statistics):\n",
    " print(\"Order Statistics:\")\n",
    " print(\"Total products ordered:\", order_statistics[0])\n",
    " print(\"Percentage of unique products ordered\", order_statistics[1])\n"
   ]
  },
  {
   "cell_type": "code",
   "execution_count": 61,
   "id": "197527a4",
   "metadata": {},
   "outputs": [],
   "source": [
    "def print_updated_inventory (inventory):\n",
    "    print(\"Updated Inventory:\")\n",
    "    for product in inventory:\n",
    "        print(f\"{product}:\", inventory[product])"
   ]
  },
  {
   "cell_type": "code",
   "execution_count": 62,
   "id": "f83efd62",
   "metadata": {},
   "outputs": [],
   "source": [
    "def calculate_total_price(customer_orders):\n",
    "    total_price = 0\n",
    "    for product in customer_orders:\n",
    "        valid_price = False\n",
    "        while not valid_price:\n",
    "            try:\n",
    "                price = float(input(f\"Enter the price of {product}: \"))\n",
    "                if price < 0:\n",
    "                    raise ValueError(\"Invalid price! Please enter a non-negative value\")\n",
    "                valid_price = True\n",
    "            except ValueError as error:\n",
    "                print(f\"Error: {error}\")\n",
    "        total_price += price\n",
    "    return total_price\n",
    "\n",
    "    \"\"\"prices = {int(input(f\"Enter the price of {item}?:\").strip()) for item in customer_orders}\n",
    "    total_price = sum(prices)\n",
    "    print (f\"The total price: {total_price}\")\"\"\""
   ]
  },
  {
   "cell_type": "code",
   "execution_count": 63,
   "id": "6adaa51b",
   "metadata": {},
   "outputs": [
    {
     "name": "stdout",
     "output_type": "stream",
     "text": [
      "Error: Invalid quantity! Please enter a non-negative value.\n",
      "Error: Invalid quantity! Please enter a non-negative value.\n",
      "Error: Invalid quantity! Please enter a non-negative value.\n",
      "Order Statistics:\n",
      "Total products ordered: 2\n",
      "Percentage of unique products ordered 40.0\n",
      "Updated Inventory:\n",
      "t-shirt: 10\n",
      "mug: 9\n",
      "hat: 10\n",
      "book: 9\n",
      "keychain: 10\n"
     ]
    }
   ],
   "source": [
    "products = [\"t-shirt\",\"mug\",\"hat\",\"book\",\"keychain\"]\n",
    "inventory = {}\n",
    "\n",
    "inventory = initialize_inventory(products)\n",
    "\n",
    "customer_orders = get_customer_orders(inventory)\n",
    "\n",
    "inventory = update_inventory(customer_orders, inventory)\n",
    "\n",
    "order_statistics = calculate_order_statistics(customer_orders, products)\n",
    "\n",
    "print_order_statistics(order_statistics)\n",
    "\n",
    "calculate_total_price(customer_orders)\n",
    "\n",
    "print_updated_inventory(inventory)"
   ]
  }
 ],
 "metadata": {
  "kernelspec": {
   "display_name": "Python 3 (ipykernel)",
   "language": "python",
   "name": "python3"
  },
  "language_info": {
   "codemirror_mode": {
    "name": "ipython",
    "version": 3
   },
   "file_extension": ".py",
   "mimetype": "text/x-python",
   "name": "python",
   "nbconvert_exporter": "python",
   "pygments_lexer": "ipython3",
   "version": "3.11.7"
  }
 },
 "nbformat": 4,
 "nbformat_minor": 5
}
